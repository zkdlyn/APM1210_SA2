{
 "cells": [
  {
   "cell_type": "markdown",
   "id": "57ce76d8",
   "metadata": {},
   "source": [
    "# Permutation Test"
   ]
  },
  {
   "cell_type": "code",
   "execution_count": 65,
   "id": "ba5d9440",
   "metadata": {
    "vscode": {
     "languageId": "r"
    }
   },
   "outputs": [],
   "source": [
    "suppressPackageStartupMessages({\n",
    "  library(knitr)\n",
    "  library(readr)\n",
    "  library(tidyverse)\n",
    "  library(car)\n",
    "})"
   ]
  },
  {
   "cell_type": "markdown",
   "id": "aad86947",
   "metadata": {},
   "source": [
    "### Objective\n",
    "The contemporary Philippine political landscape is abundant of popular media personalities who leverage their fame for electoral advantage. Awards not only reflect artistic caliber, but may also function as markers for an actor's public recognition and perceived credibility. \n",
    "\n",
    "To explore whether awards correlate with electoral success, we seek to determine whether the number of acting awards is the same for actors who have been elected to office and those who have not."
   ]
  },
  {
   "cell_type": "markdown",
   "id": "66ce76cd",
   "metadata": {},
   "source": [
    "### The Data\n",
    "\n",
    "The dataset consists of 30 actors: 12 elected politicians and 18 non-politicians."
   ]
  },
  {
   "cell_type": "code",
   "execution_count": 66,
   "id": "5b6c0832",
   "metadata": {
    "vscode": {
     "languageId": "r"
    }
   },
   "outputs": [
    {
     "data": {
      "text/html": [
       "<table class=\"dataframe\">\n",
       "<caption>A tibble: 5 × 7</caption>\n",
       "<thead>\n",
       "\t<tr><th scope=col>name</th><th scope=col>years_active</th><th scope=col>imdb_credits</th><th scope=col>family</th><th scope=col>education</th><th scope=col>politics</th><th scope=col>wins</th></tr>\n",
       "\t<tr><th scope=col>&lt;chr&gt;</th><th scope=col>&lt;dbl&gt;</th><th scope=col>&lt;dbl&gt;</th><th scope=col>&lt;dbl&gt;</th><th scope=col>&lt;dbl&gt;</th><th scope=col>&lt;dbl&gt;</th><th scope=col>&lt;dbl&gt;</th></tr>\n",
       "</thead>\n",
       "<tbody>\n",
       "\t<tr><td>Sam Milby     </td><td>20</td><td>60</td><td>0</td><td>0</td><td>0</td><td>0</td></tr>\n",
       "\t<tr><td>Daniel Padilla</td><td>15</td><td>34</td><td>1</td><td>0</td><td>0</td><td>1</td></tr>\n",
       "\t<tr><td>Nadine Lustre </td><td>24</td><td>47</td><td>0</td><td>1</td><td>0</td><td>5</td></tr>\n",
       "\t<tr><td>Bea Alonzo    </td><td>23</td><td>51</td><td>0</td><td>1</td><td>0</td><td>0</td></tr>\n",
       "\t<tr><td>Alden Richards</td><td>14</td><td>55</td><td>0</td><td>1</td><td>0</td><td>0</td></tr>\n",
       "</tbody>\n",
       "</table>\n"
      ],
      "text/latex": [
       "A tibble: 5 × 7\n",
       "\\begin{tabular}{lllllll}\n",
       " name & years\\_active & imdb\\_credits & family & education & politics & wins\\\\\n",
       " <chr> & <dbl> & <dbl> & <dbl> & <dbl> & <dbl> & <dbl>\\\\\n",
       "\\hline\n",
       "\t Sam Milby      & 20 & 60 & 0 & 0 & 0 & 0\\\\\n",
       "\t Daniel Padilla & 15 & 34 & 1 & 0 & 0 & 1\\\\\n",
       "\t Nadine Lustre  & 24 & 47 & 0 & 1 & 0 & 5\\\\\n",
       "\t Bea Alonzo     & 23 & 51 & 0 & 1 & 0 & 0\\\\\n",
       "\t Alden Richards & 14 & 55 & 0 & 1 & 0 & 0\\\\\n",
       "\\end{tabular}\n"
      ],
      "text/markdown": [
       "\n",
       "A tibble: 5 × 7\n",
       "\n",
       "| name &lt;chr&gt; | years_active &lt;dbl&gt; | imdb_credits &lt;dbl&gt; | family &lt;dbl&gt; | education &lt;dbl&gt; | politics &lt;dbl&gt; | wins &lt;dbl&gt; |\n",
       "|---|---|---|---|---|---|---|\n",
       "| Sam Milby      | 20 | 60 | 0 | 0 | 0 | 0 |\n",
       "| Daniel Padilla | 15 | 34 | 1 | 0 | 0 | 1 |\n",
       "| Nadine Lustre  | 24 | 47 | 0 | 1 | 0 | 5 |\n",
       "| Bea Alonzo     | 23 | 51 | 0 | 1 | 0 | 0 |\n",
       "| Alden Richards | 14 | 55 | 0 | 1 | 0 | 0 |\n",
       "\n"
      ],
      "text/plain": [
       "  name           years_active imdb_credits family education politics wins\n",
       "1 Sam Milby      20           60           0      0         0        0   \n",
       "2 Daniel Padilla 15           34           1      0         0        1   \n",
       "3 Nadine Lustre  24           47           0      1         0        5   \n",
       "4 Bea Alonzo     23           51           0      1         0        0   \n",
       "5 Alden Richards 14           55           0      1         0        0   "
      ]
     },
     "metadata": {},
     "output_type": "display_data"
    },
    {
     "data": {
      "text/plain": [
       "\n",
       " 0  1 \n",
       "18 12 "
      ]
     },
     "metadata": {},
     "output_type": "display_data"
    }
   ],
   "source": [
    "actors <- read_csv(\"https://raw.githubusercontent.com/zkdlyn/APM1210_SA2/refs/heads/main/celebrity_sample30.csv\",\n",
    "show_col_types = FALSE)\n",
    "\n",
    "head(actors,5)\n",
    "table(actors$politics)\n"
   ]
  },
  {
   "cell_type": "code",
   "execution_count": 67,
   "id": "a4f285c0",
   "metadata": {
    "vscode": {
     "languageId": "r"
    }
   },
   "outputs": [
    {
     "data": {
      "image/png": "[encoded data removed]",
      "text/plain": [
       "plot without title"
      ]
     },
     "metadata": {
      "image/png": {
       "height": 420,
       "width": 420
      }
     },
     "output_type": "display_data"
    }
   ],
   "source": [
    "boxplot(wins ~ politics, data = actors,\n",
    "     names = c(\"Non-Politicians\", \"Politicians\"),\n",
    "     col = c(\"lightblue\", \"lightgreen\"))\n",
    "\n",
    "points(1:2, tapply(actors$wins, actors$politics, mean), \n",
    "col = \"red\", pch = 19, cex = 1.2)\n"
   ]
  },
  {
   "cell_type": "markdown",
   "id": "409579ea",
   "metadata": {},
   "source": [
    "In the boxplots, we see some difference in the means and medians between the groups. The observed mean (red dots) of awards in the non-politician group appear to be higher. By visual inspection, the data shows non-normality with some extreme outliers."
   ]
  },
  {
   "cell_type": "markdown",
   "id": "aa91f313",
   "metadata": {},
   "source": [
    "### Permutation Hypothesis Testing\n",
    "A t-test is typically used to compare the means of two groups. However, since the sample size is small and violates a key assumption of the t-test, we will run a non-parametric permutation test as an alternative."
   ]
  },
  {
   "cell_type": "markdown",
   "id": "39c0fd4e",
   "metadata": {},
   "source": [
    "### Hypotheses\n",
    "- $H_0$: There is no significant difference between the average award wins of the two groups.\n",
    "- $H_1$: There is a significant difference between the average award wins of the two groups."
   ]
  },
  {
   "cell_type": "code",
   "execution_count": 68,
   "id": "11e2d7e8",
   "metadata": {
    "vscode": {
     "languageId": "r"
    }
   },
   "outputs": [],
   "source": [
    "set.seed(1234)\n",
    "\n",
    "x <- actors$wins[actors$politics ==0] # actors not in politics\n",
    "y <- actors$wins[actors$politics ==1] # actors in politics\n",
    "\n",
    "\n",
    "permu_test <- function(x,y, R){\n",
    "    z <- c(x, y)\n",
    "    nx<- length(x)\n",
    "    n <- length(z)\n",
    "\n",
    "    diff <- abs(mean(x) - mean(y))\n",
    "\n",
    "    permuted_diffs <- numeric(R)\n",
    "    for (i in 1:R){\n",
    "        k <- sample(1:n, size=nx, replace = FALSE)\n",
    "        x1 <- z[k]\n",
    "        y1 <- z[-k]\n",
    "        permuted_diffs[i] <- abs(mean(x1) - mean(y1))\n",
    "    }\n",
    "\n",
    "    p <- mean(permuted_diffs >= diff)\n",
    "\n",
    "    list(\n",
    "    observed_diff = diff,\n",
    "    p_value = p,\n",
    "    permutation_distribution = permuted_diffs\n",
    "  )\n",
    "}\n"
   ]
  },
  {
   "cell_type": "markdown",
   "id": "05d0fc0c",
   "metadata": {},
   "source": [
    "This is a function that implememts a permutation test to compare the difference in **means** between two groups, x (non-politicians) and y (politicians).\n",
    "\n",
    "The process first assumes the null hypothesis—that there's no real difference between the groups.  Both vectors are pooled into a single dataset, treating all observations as coming from the same population. The observed absolute difference in means between the original  samples groups is calculated which serves as the test statistic for comparison. \n",
    "The next step is to simulate 5,000 permutations by randomly shuffling the pooled dataset. In each iteration, a random subset is sampled from the pooled dataset without replacement to form new groups, x1 and y1. The absolute mean difference between these new groups is calculated and stored.\n",
    "\n",
    "The p-value is calculated as the proportion of permutations where the simulated difference in means is greater than or equal to the observed difference. This p-value quantifies how likely it is to observe a difference as large as the one in the actual data, assuming the null hypothesis is true."
   ]
  },
  {
   "cell_type": "markdown",
   "id": "22b5808c",
   "metadata": {},
   "source": [
    "### Result"
   ]
  },
  {
   "cell_type": "code",
   "execution_count": 76,
   "id": "f494ab73",
   "metadata": {
    "vscode": {
     "languageId": "r"
    }
   },
   "outputs": [
    {
     "data": {
      "text/plain": [
       "\n",
       "\n",
       "| Observed_Mean_Difference| P_value|\n",
       "|------------------------:|-------:|\n",
       "|                0.8611111|  0.3726|"
      ]
     },
     "metadata": {},
     "output_type": "display_data"
    },
    {
     "data": {
      "image/png": "[encoded data removed]",
      "text/plain": [
       "Plot with title \"Null Distribution\""
      ]
     },
     "metadata": {
      "image/png": {
       "height": 420,
       "width": 420
      }
     },
     "output_type": "display_data"
    }
   ],
   "source": [
    "set.seed(1234)\n",
    "wins <- permu_test(x,y, 5000)\n",
    "\n",
    "kable(data.frame(\n",
    "     Observed_Mean_Difference = wins$observed_diff,\n",
    "     P_value = wins$p_value\n",
    "))\n",
    "\n",
    "hist(wins$permutation_distribution, breaks=\"scott\", \n",
    "     xlab=\"Permuted Mean Difference\",main=\"Null Distribution\",\n",
    "     freq= FALSE, col=\"lightblue\")\n",
    "\n",
    "abline(v = wins$observed_diff, col = \"red\", lwd = 2)\n"
   ]
  },
  {
   "cell_type": "markdown",
   "id": "3309a3fd",
   "metadata": {},
   "source": [
    "Since p value exceeds the significant threshold of 0.05 (p=0.3726), there is insufficient evidence to reject the null hypothesis. Hence, we conclude that **there is no significant difference between the means of the two groups**. The null distribution histogram illustrates the distribution of permuted mean differences. The red line marks where the value of the observed mean difference falls. The observed difference sits well within the body of the histogram, suggesting that the observed difference is not unusual compared to what we would expect by random chance (permuted mean differences).\n",
    "\n",
    "This result suggests that any observed difference in the average number of wins between actors involved in politics and those who are not may simply be due to chance. Based on this test, we have no strong statistical evidence to say that an actor's award count alone does not reliably predict electoral success. It must be noted, however, that this experiment only considered total wins from select award-giving institutions. Other measures of fame and relevant factors such as family political ties or educational background are not accounted for here. We are also limited by a small sample size which may fail to represent the groups well.\n",
    "\n",
    "Awards may translate to increased public recognition and fame, but also reflect an actor's dedication to their craft. While some actors may use their hard-earned fame to launch political careers, others may want to remain focused on acting, accumulating more accolades. Such divergence in priorities or ambitions may complicate any straightforward relationship between awards and electoral success. Further investigation on other factors is recommended."
   ]
  }
 ],
 "metadata": {
  "kernelspec": {
   "display_name": "R",
   "language": "R",
   "name": "ir"
  },
  "language_info": {
   "codemirror_mode": "r",
   "file_extension": ".r",
   "mimetype": "text/x-r-source",
   "name": "R",
   "pygments_lexer": "r",
   "version": "4.4.3"
  }
 },
 "nbformat": 4,
 "nbformat_minor": 5
}
