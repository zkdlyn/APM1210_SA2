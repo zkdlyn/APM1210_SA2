{
 "cells": [
  {
   "cell_type": "markdown",
   "id": "e4bd9c7f",
   "metadata": {
    "vscode": {
     "languageId": "r"
    }
   },
   "source": [
    "# Bootstrap and Jackknife Estimation"
   ]
  },
  {
   "cell_type": "code",
   "execution_count": 1,
   "id": "03a82e58",
   "metadata": {
    "vscode": {
     "languageId": "r"
    }
   },
   "outputs": [],
   "source": [
    "suppressPackageStartupMessages({\n",
    "  library(knitr)\n",
    "  library(readr)\n",
    "  library(tidyverse)\n",
    "  library(car)\n",
    "  library(caret)\n",
    "  library(boot)\n",
    "  library(bootstrap)\n",
    "\n",
    "})"
   ]
  },
  {
   "cell_type": "markdown",
   "id": "3972b994",
   "metadata": {},
   "source": [
    "### Objective\n",
    "\n",
    "Political dynasties are deep-rooted in the Philippines with nearly 250 political families dominating the politics across the country—at all levels from the brangays to the Senate. In this environment, a well-known surname often translates directly into votes, highlighting the advantage of name recall for successful electoral bids. Dynasties are likewise highly persistent in the entertainment industry. As such,  celebrities  who combine their personal fame and prominent political lineage may significantly boost their electoral prospects.\n",
    "\n",
    "To better understand the extent and persistence of political dynasties, bootstrap and jackknife resampling methods will be used to quantify the uncertainty around the actors' average number of family in politics, estimating its bias, variance, and a 95% confidence interval."
   ]
  },
  {
   "cell_type": "code",
   "execution_count": 2,
   "id": "df13fefe",
   "metadata": {
    "vscode": {
     "languageId": "r"
    }
   },
   "outputs": [
    {
     "data": {
      "text/html": [
       "<table class=\"dataframe\">\n",
       "<caption>A tibble: 5 × 7</caption>\n",
       "<thead>\n",
       "\t<tr><th scope=col>name</th><th scope=col>years_active</th><th scope=col>imdb_credits</th><th scope=col>family</th><th scope=col>education</th><th scope=col>politics</th><th scope=col>wins</th></tr>\n",
       "\t<tr><th scope=col>&lt;chr&gt;</th><th scope=col>&lt;dbl&gt;</th><th scope=col>&lt;dbl&gt;</th><th scope=col>&lt;dbl&gt;</th><th scope=col>&lt;dbl&gt;</th><th scope=col>&lt;dbl&gt;</th><th scope=col>&lt;dbl&gt;</th></tr>\n",
       "</thead>\n",
       "<tbody>\n",
       "\t<tr><td>Sam Milby     </td><td>20</td><td>60</td><td>0</td><td>0</td><td>0</td><td>0</td></tr>\n",
       "\t<tr><td>Daniel Padilla</td><td>15</td><td>34</td><td>1</td><td>0</td><td>0</td><td>1</td></tr>\n",
       "\t<tr><td>Nadine Lustre </td><td>24</td><td>47</td><td>0</td><td>1</td><td>0</td><td>5</td></tr>\n",
       "\t<tr><td>Bea Alonzo    </td><td>23</td><td>51</td><td>0</td><td>1</td><td>0</td><td>0</td></tr>\n",
       "\t<tr><td>Alden Richards</td><td>14</td><td>55</td><td>0</td><td>1</td><td>0</td><td>0</td></tr>\n",
       "</tbody>\n",
       "</table>\n"
      ],
      "text/latex": [
       "A tibble: 5 × 7\n",
       "\\begin{tabular}{lllllll}\n",
       " name & years\\_active & imdb\\_credits & family & education & politics & wins\\\\\n",
       " <chr> & <dbl> & <dbl> & <dbl> & <dbl> & <dbl> & <dbl>\\\\\n",
       "\\hline\n",
       "\t Sam Milby      & 20 & 60 & 0 & 0 & 0 & 0\\\\\n",
       "\t Daniel Padilla & 15 & 34 & 1 & 0 & 0 & 1\\\\\n",
       "\t Nadine Lustre  & 24 & 47 & 0 & 1 & 0 & 5\\\\\n",
       "\t Bea Alonzo     & 23 & 51 & 0 & 1 & 0 & 0\\\\\n",
       "\t Alden Richards & 14 & 55 & 0 & 1 & 0 & 0\\\\\n",
       "\\end{tabular}\n"
      ],
      "text/markdown": [
       "\n",
       "A tibble: 5 × 7\n",
       "\n",
       "| name &lt;chr&gt; | years_active &lt;dbl&gt; | imdb_credits &lt;dbl&gt; | family &lt;dbl&gt; | education &lt;dbl&gt; | politics &lt;dbl&gt; | wins &lt;dbl&gt; |\n",
       "|---|---|---|---|---|---|---|\n",
       "| Sam Milby      | 20 | 60 | 0 | 0 | 0 | 0 |\n",
       "| Daniel Padilla | 15 | 34 | 1 | 0 | 0 | 1 |\n",
       "| Nadine Lustre  | 24 | 47 | 0 | 1 | 0 | 5 |\n",
       "| Bea Alonzo     | 23 | 51 | 0 | 1 | 0 | 0 |\n",
       "| Alden Richards | 14 | 55 | 0 | 1 | 0 | 0 |\n",
       "\n"
      ],
      "text/plain": [
       "  name           years_active imdb_credits family education politics wins\n",
       "1 Sam Milby      20           60           0      0         0        0   \n",
       "2 Daniel Padilla 15           34           1      0         0        1   \n",
       "3 Nadine Lustre  24           47           0      1         0        5   \n",
       "4 Bea Alonzo     23           51           0      1         0        0   \n",
       "5 Alden Richards 14           55           0      1         0        0   "
      ]
     },
     "metadata": {},
     "output_type": "display_data"
    }
   ],
   "source": [
    "actors <- read_csv(\"https://raw.githubusercontent.com/zkdlyn/APM1210_SA2/refs/heads/main/celebrity_sample30.csv\",\n",
    "show_col_types = FALSE)\n",
    "\n",
    "head(actors,5)"
   ]
  },
  {
   "cell_type": "code",
   "execution_count": 3,
   "id": "09f09c66",
   "metadata": {
    "vscode": {
     "languageId": "r"
    }
   },
   "outputs": [
    {
     "data": {
      "text/plain": [
       "   Min. 1st Qu.  Median    Mean 3rd Qu.    Max. \n",
       " 0.0000  0.0000  0.5000  0.8667  1.0000  4.0000 "
      ]
     },
     "metadata": {},
     "output_type": "display_data"
    },
    {
     "data": {
      "image/png": "[encoded data removed]",
      "text/plain": [
       "Plot with title \"Family\""
      ]
     },
     "metadata": {
      "image/png": {
       "height": 420,
       "width": 420
      }
     },
     "output_type": "display_data"
    }
   ],
   "source": [
    "summary(actors$family)\n",
    "hist(actors$family, breaks = 20, main = \"Family\", xlab = \"Family\", ylab = \"Frequency\")\n",
    "mean <- mean(actors$family)"
   ]
  },
  {
   "cell_type": "markdown",
   "id": "1e2d05af",
   "metadata": {},
   "source": [
    "### Bootstrap Estimation"
   ]
  },
  {
   "cell_type": "code",
   "execution_count": 4,
   "id": "04c674f5",
   "metadata": {
    "vscode": {
     "languageId": "r"
    }
   },
   "outputs": [
    {
     "data": {
      "text/plain": [
       "\n",
       "\n",
       "|         |           |\n",
       "|:--------|----------:|\n",
       "|Mean     |  0.8666667|\n",
       "|Mean_Est |  0.8626000|\n",
       "|Bias     | -0.0040667|\n",
       "|SE       |  0.2081936|"
      ]
     },
     "metadata": {},
     "output_type": "display_data"
    }
   ],
   "source": [
    "set.seed(2025)\n",
    "B<- 1000\n",
    "bs_est <- numeric(B)\n",
    "n<- nrow(actors)\n",
    "for(b in 1:B) {\n",
    "    i <- sample(1:n,size= n,replace = TRUE)\n",
    "    sample <- actors[i,]\n",
    "    bs_est[b] <- mean(sample$family)\n",
    "}\n",
    "\n",
    "mean_boot <- mean(bs_est)\n",
    "bias_boot <- mean(mean_boot - mean)\n",
    "se_boot <- sd(bs_est)\n",
    "\n",
    "summary_bs <- (data.frame(\n",
    "    Mean = mean,\n",
    "    Mean_Est = mean_boot,\n",
    "    Bias = bias_boot,\n",
    "    SE = se_boot\n",
    "))\n",
    "\n",
    "\n",
    "kable(t(summary_bs))"
   ]
  },
  {
   "cell_type": "code",
   "execution_count": 5,
   "id": "511b3e29",
   "metadata": {
    "vscode": {
     "languageId": "r"
    }
   },
   "outputs": [
    {
     "data": {
      "image/png": "[encoded data removed]",
      "text/plain": [
       "Plot with title \"Distribution of Bootstrap Estimates\""
      ]
     },
     "metadata": {
      "image/png": {
       "height": 420,
       "width": 420
      }
     },
     "output_type": "display_data"
    }
   ],
   "source": [
    "hist(bs_est,prob=TRUE, main= \"Distribution of Bootstrap Estimates\", xlab=\"Estimates of Mean No. of Family\")"
   ]
  },
  {
   "cell_type": "code",
   "execution_count": 6,
   "id": "41d2a42a",
   "metadata": {
    "vscode": {
     "languageId": "r"
    }
   },
   "outputs": [
    {
     "data": {
      "text/html": [
       "<style>\n",
       ".dl-inline {width: auto; margin:0; padding: 0}\n",
       ".dl-inline>dt, .dl-inline>dd {float: none; width: auto; display: inline-block}\n",
       ".dl-inline>dt::after {content: \":\\0020\"; padding-right: .5ex}\n",
       ".dl-inline>dt:not(:first-of-type) {padding-left: .5ex}\n",
       "</style><dl class=dl-inline><dt>Lower 95%</dt><dd>0.5</dd><dt>Upper 95%</dt><dd>1.3</dd></dl>\n"
      ],
      "text/latex": [
       "\\begin{description*}\n",
       "\\item[Lower 95\\textbackslash{}\\%] 0.5\n",
       "\\item[Upper 95\\textbackslash{}\\%] 1.3\n",
       "\\end{description*}\n"
      ],
      "text/markdown": [
       "Lower 95%\n",
       ":   0.5Upper 95%\n",
       ":   1.3\n",
       "\n"
      ],
      "text/plain": [
       "Lower 95% Upper 95% \n",
       "      0.5       1.3 "
      ]
     },
     "metadata": {},
     "output_type": "display_data"
    }
   ],
   "source": [
    "CI <- quantile(bs_est, probs = c(0.025, 0.975))\n",
    "names(CI) <- c(\"Lower 95%\", \"Upper 95%\")\n",
    "CI"
   ]
  },
  {
   "cell_type": "markdown",
   "id": "c49ac404",
   "metadata": {},
   "source": [
    "In the original sample of 30 actors, the mean number of family members in politics is reported to be 0.867. After conducting 1000 bootstrap resamples, the estimated mean is 0.863, with a small negative bias of -0.004 and a standard error of approximately 0.208. This suggests that our sample mean is a reliable estimator with negligible systematic error. The 95 % percentile confidence interval ranges from 0.50 to 1.3, implying that the true average number of immediate family members in politics per actor llikely falls within this interval."
   ]
  },
  {
   "cell_type": "markdown",
   "id": "a0330eb3",
   "metadata": {},
   "source": [
    "### Jackknife Resampling"
   ]
  },
  {
   "cell_type": "code",
   "execution_count": 7,
   "id": "1bdaad10",
   "metadata": {
    "vscode": {
     "languageId": "r"
    }
   },
   "outputs": [
    {
     "data": {
      "text/plain": [
       "\n",
       "\n",
       "|         |          |\n",
       "|:--------|---------:|\n",
       "|Mean     | 0.8666667|\n",
       "|Mean_Est | 0.8666667|\n",
       "|Bias     | 0.0000000|\n",
       "|SE       | 0.0378881|"
      ]
     },
     "metadata": {},
     "output_type": "display_data"
    }
   ],
   "source": [
    "n <- nrow(actors)\n",
    "jk_est <- numeric(n)\n",
    "\n",
    "for (i in 1:n) {\n",
    "  sample_jk <- actors[-i, ]\n",
    "  jk_est[i] <- mean(sample_jk$family)\n",
    "}\n",
    "\n",
    "mean_jk <- mean(jk_est)\n",
    "bias_jk <- (n-1)* (mean_jk - mean)\n",
    "var_jk <- ((n-1)/n)* mean((jk_est - mean_jk)^2)\n",
    "se_jk  <- sqrt(var_jk)\n",
    "\n",
    "\n",
    "summary_jk <- (data.frame(\n",
    "    Mean = mean,\n",
    "    Mean_Est = mean_jk,\n",
    "    Bias = bias_jk,\n",
    "    SE = se_jk\n",
    "))\n",
    "\n",
    "kable(t(summary_jk))"
   ]
  },
  {
   "cell_type": "markdown",
   "id": "2462de9b",
   "metadata": {},
   "source": [
    "Based on the jackknife resampling of the data on 30 actors, the estimated mean number of immediate family members in politics is 0.867. This estimate is identical to the sample mean, indicating no detectable bias. The standard error of the mean is approximately 0.038, suggesting that the mean is relatively stable across the samples."
   ]
  },
  {
   "cell_type": "markdown",
   "id": "08ef23f3",
   "metadata": {},
   "source": [
    "These results reinforce the trend of persistent political family ties among actors. An average of about 0.867 suggests that actors are likely to have at least one immediate family member in politics. The presence of such a phenomenon reflects the blurring lines between politics and the entertainment industry in the Philippines. With name recall being a key factor in electoral success, well-known actors hailing from political clans can make an easy transition to a government seat."
   ]
  }
 ],
 "metadata": {
  "kernelspec": {
   "display_name": "R",
   "language": "R",
   "name": "ir"
  },
  "language_info": {
   "codemirror_mode": "r",
   "file_extension": ".r",
   "mimetype": "text/x-r-source",
   "name": "R",
   "pygments_lexer": "r",
   "version": "4.4.3"
  }
 },
 "nbformat": 4,
 "nbformat_minor": 5
}
