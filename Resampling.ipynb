{
 "cells": [
  {
   "cell_type": "markdown",
   "id": "35596a4c",
   "metadata": {},
   "source": [
    "# Resampling for Model Validation"
   ]
  },
  {
   "cell_type": "code",
   "execution_count": 1,
   "id": "ff4288ea",
   "metadata": {
    "vscode": {
     "languageId": "r"
    }
   },
   "outputs": [],
   "source": [
    "suppressPackageStartupMessages({\n",
    "  library(knitr)\n",
    "  library(readr)\n",
    "  library(tidyverse)\n",
    "  library(car)\n",
    "  library(boot)\n",
    "})"
   ]
  },
  {
   "cell_type": "markdown",
   "id": "06719dd7",
   "metadata": {},
   "source": [
    "### Objective"
   ]
  },
  {
   "cell_type": "code",
   "execution_count": 2,
   "id": "4421c2f5",
   "metadata": {
    "vscode": {
     "languageId": "r"
    }
   },
   "outputs": [
    {
     "data": {
      "text/html": [
       "<table class=\"dataframe\">\n",
       "<caption>A tibble: 5 × 7</caption>\n",
       "<thead>\n",
       "\t<tr><th scope=col>name</th><th scope=col>years_active</th><th scope=col>imdb_credits</th><th scope=col>family</th><th scope=col>education</th><th scope=col>politics</th><th scope=col>wins</th></tr>\n",
       "\t<tr><th scope=col>&lt;chr&gt;</th><th scope=col>&lt;dbl&gt;</th><th scope=col>&lt;dbl&gt;</th><th scope=col>&lt;dbl&gt;</th><th scope=col>&lt;dbl&gt;</th><th scope=col>&lt;dbl&gt;</th><th scope=col>&lt;dbl&gt;</th></tr>\n",
       "</thead>\n",
       "<tbody>\n",
       "\t<tr><td>Sam Milby     </td><td>20</td><td>60</td><td>0</td><td>0</td><td>0</td><td>0</td></tr>\n",
       "\t<tr><td>Daniel Padilla</td><td>15</td><td>34</td><td>1</td><td>0</td><td>0</td><td>1</td></tr>\n",
       "\t<tr><td>Nadine Lustre </td><td>24</td><td>47</td><td>0</td><td>1</td><td>0</td><td>5</td></tr>\n",
       "\t<tr><td>Bea Alonzo    </td><td>23</td><td>51</td><td>0</td><td>1</td><td>0</td><td>0</td></tr>\n",
       "\t<tr><td>Alden Richards</td><td>14</td><td>55</td><td>0</td><td>1</td><td>0</td><td>0</td></tr>\n",
       "</tbody>\n",
       "</table>\n"
      ],
      "text/latex": [
       "A tibble: 5 × 7\n",
       "\\begin{tabular}{lllllll}\n",
       " name & years\\_active & imdb\\_credits & family & education & politics & wins\\\\\n",
       " <chr> & <dbl> & <dbl> & <dbl> & <dbl> & <dbl> & <dbl>\\\\\n",
       "\\hline\n",
       "\t Sam Milby      & 20 & 60 & 0 & 0 & 0 & 0\\\\\n",
       "\t Daniel Padilla & 15 & 34 & 1 & 0 & 0 & 1\\\\\n",
       "\t Nadine Lustre  & 24 & 47 & 0 & 1 & 0 & 5\\\\\n",
       "\t Bea Alonzo     & 23 & 51 & 0 & 1 & 0 & 0\\\\\n",
       "\t Alden Richards & 14 & 55 & 0 & 1 & 0 & 0\\\\\n",
       "\\end{tabular}\n"
      ],
      "text/markdown": [
       "\n",
       "A tibble: 5 × 7\n",
       "\n",
       "| name &lt;chr&gt; | years_active &lt;dbl&gt; | imdb_credits &lt;dbl&gt; | family &lt;dbl&gt; | education &lt;dbl&gt; | politics &lt;dbl&gt; | wins &lt;dbl&gt; |\n",
       "|---|---|---|---|---|---|---|\n",
       "| Sam Milby      | 20 | 60 | 0 | 0 | 0 | 0 |\n",
       "| Daniel Padilla | 15 | 34 | 1 | 0 | 0 | 1 |\n",
       "| Nadine Lustre  | 24 | 47 | 0 | 1 | 0 | 5 |\n",
       "| Bea Alonzo     | 23 | 51 | 0 | 1 | 0 | 0 |\n",
       "| Alden Richards | 14 | 55 | 0 | 1 | 0 | 0 |\n",
       "\n"
      ],
      "text/plain": [
       "  name           years_active imdb_credits family education politics wins\n",
       "1 Sam Milby      20           60           0      0         0        0   \n",
       "2 Daniel Padilla 15           34           1      0         0        1   \n",
       "3 Nadine Lustre  24           47           0      1         0        5   \n",
       "4 Bea Alonzo     23           51           0      1         0        0   \n",
       "5 Alden Richards 14           55           0      1         0        0   "
      ]
     },
     "metadata": {},
     "output_type": "display_data"
    }
   ],
   "source": [
    "actors <- read_csv(\"https://raw.githubusercontent.com/zkdlyn/APM1210_SA2/refs/heads/main/celebrity_sample30.csv\",\n",
    "show_col_types = FALSE)\n",
    "\n",
    "head(actors,5)"
   ]
  },
  {
   "cell_type": "markdown",
   "id": "f9598d79",
   "metadata": {
    "vscode": {
     "languageId": "r"
    }
   },
   "source": [
    "**Initial Logistic Regression Model**\n",
    "\n",
    "$$\n",
    "ln \\frac{p}{1-p}= \\beta_0 + \\beta_1 \\cdot (years\\_active) + \\beta_2 \\cdot (imdb\\_credits) + \\beta_3 \\cdot (wins)"
   ]
  },
  {
   "cell_type": "code",
   "execution_count": 4,
   "id": "c3f696fd",
   "metadata": {
    "vscode": {
     "languageId": "r"
    }
   },
   "outputs": [
    {
     "data": {
      "text/plain": [
       "\n",
       "Call:\n",
       "glm(formula = politics ~ years_active + imdb_credits + wins, \n",
       "    family = binomial, data = actors)\n",
       "\n",
       "Coefficients:\n",
       "             Estimate Std. Error z value Pr(>|z|)   \n",
       "(Intercept)  -2.49586    1.58201  -1.578  0.11465   \n",
       "years_active  0.16581    0.06390   2.595  0.00946 **\n",
       "imdb_credits -0.03700    0.02158  -1.715  0.08641 . \n",
       "wins         -0.42472    0.30264  -1.403  0.16051   \n",
       "---\n",
       "Signif. codes:  0 '***' 0.001 '**' 0.01 '*' 0.05 '.' 0.1 ' ' 1\n",
       "\n",
       "(Dispersion parameter for binomial family taken to be 1)\n",
       "\n",
       "    Null deviance: 40.381  on 29  degrees of freedom\n",
       "Residual deviance: 29.194  on 26  degrees of freedom\n",
       "AIC: 37.194\n",
       "\n",
       "Number of Fisher Scoring iterations: 5\n"
      ]
     },
     "metadata": {},
     "output_type": "display_data"
    }
   ],
   "source": [
    "logit <- glm(politics~ years_active + imdb_credits + wins, \n",
    "             data = actors, family = binomial)\n",
    "\n",
    "summary(logit)"
   ]
  }
 ],
 "metadata": {
  "kernelspec": {
   "display_name": "R",
   "language": "R",
   "name": "ir"
  },
  "language_info": {
   "codemirror_mode": "r",
   "file_extension": ".r",
   "mimetype": "text/x-r-source",
   "name": "R",
   "pygments_lexer": "r",
   "version": "4.4.3"
  }
 },
 "nbformat": 4,
 "nbformat_minor": 5
}
