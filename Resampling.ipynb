{
 "cells": [
  {
   "cell_type": "markdown",
   "id": "35596a4c",
   "metadata": {},
   "source": [
    "# Resampling for Model Validation"
   ]
  },
  {
   "cell_type": "code",
   "execution_count": 1,
   "id": "1c1d67fe",
   "metadata": {
    "vscode": {
     "languageId": "r"
    }
   },
   "outputs": [],
   "source": [
    "suppressPackageStartupMessages({\n",
    "  library(knitr)\n",
    "  library(readr)\n",
    "  library(ggplot2)\n",
    "  library(tidyverse)\n",
    "  library(car)\n",
    "  library(caret)\n",
    "  library(pscl)\n",
    "  library(boot)\n",
    "})"
   ]
  },
  {
   "cell_type": "markdown",
   "id": "06719dd7",
   "metadata": {},
   "source": [
    "### Objective\n",
    "As public figures from film and television have increasingly  transitioned to political careers in various levels of government. This trend raises questions as to what attributes contribute to an actor's electoral success. Career longevity, accolades, acting credits, and family connections may further enhance an actor's publicity and increase perceived credinility.\n",
    "\n",
    "This study aims to apply bootstrap and jackknife resampling techniques to identify if career length (in years), number of acting credits, number of awards, and number of immediate family members in politiics are significantly associated with actors becoming elected politicians.Logistic regression modeling will be used to estimate the strength and direction these predictors while assessing model stability under resampling."
   ]
  },
  {
   "cell_type": "code",
   "execution_count": 2,
   "id": "4421c2f5",
   "metadata": {
    "vscode": {
     "languageId": "r"
    }
   },
   "outputs": [
    {
     "data": {
      "text/html": [
       "<table class=\"dataframe\">\n",
       "<caption>A tibble: 5 × 7</caption>\n",
       "<thead>\n",
       "\t<tr><th scope=col>name</th><th scope=col>years_active</th><th scope=col>imdb_credits</th><th scope=col>family</th><th scope=col>education</th><th scope=col>politics</th><th scope=col>wins</th></tr>\n",
       "\t<tr><th scope=col>&lt;chr&gt;</th><th scope=col>&lt;dbl&gt;</th><th scope=col>&lt;dbl&gt;</th><th scope=col>&lt;dbl&gt;</th><th scope=col>&lt;dbl&gt;</th><th scope=col>&lt;dbl&gt;</th><th scope=col>&lt;dbl&gt;</th></tr>\n",
       "</thead>\n",
       "<tbody>\n",
       "\t<tr><td>Sam Milby     </td><td>20</td><td>60</td><td>0</td><td>0</td><td>0</td><td>0</td></tr>\n",
       "\t<tr><td>Daniel Padilla</td><td>15</td><td>34</td><td>1</td><td>0</td><td>0</td><td>1</td></tr>\n",
       "\t<tr><td>Nadine Lustre </td><td>24</td><td>47</td><td>0</td><td>1</td><td>0</td><td>5</td></tr>\n",
       "\t<tr><td>Bea Alonzo    </td><td>23</td><td>51</td><td>0</td><td>1</td><td>0</td><td>0</td></tr>\n",
       "\t<tr><td>Alden Richards</td><td>14</td><td>55</td><td>0</td><td>1</td><td>0</td><td>0</td></tr>\n",
       "</tbody>\n",
       "</table>\n"
      ],
      "text/latex": [
       "A tibble: 5 × 7\n",
       "\\begin{tabular}{lllllll}\n",
       " name & years\\_active & imdb\\_credits & family & education & politics & wins\\\\\n",
       " <chr> & <dbl> & <dbl> & <dbl> & <dbl> & <dbl> & <dbl>\\\\\n",
       "\\hline\n",
       "\t Sam Milby      & 20 & 60 & 0 & 0 & 0 & 0\\\\\n",
       "\t Daniel Padilla & 15 & 34 & 1 & 0 & 0 & 1\\\\\n",
       "\t Nadine Lustre  & 24 & 47 & 0 & 1 & 0 & 5\\\\\n",
       "\t Bea Alonzo     & 23 & 51 & 0 & 1 & 0 & 0\\\\\n",
       "\t Alden Richards & 14 & 55 & 0 & 1 & 0 & 0\\\\\n",
       "\\end{tabular}\n"
      ],
      "text/markdown": [
       "\n",
       "A tibble: 5 × 7\n",
       "\n",
       "| name &lt;chr&gt; | years_active &lt;dbl&gt; | imdb_credits &lt;dbl&gt; | family &lt;dbl&gt; | education &lt;dbl&gt; | politics &lt;dbl&gt; | wins &lt;dbl&gt; |\n",
       "|---|---|---|---|---|---|---|\n",
       "| Sam Milby      | 20 | 60 | 0 | 0 | 0 | 0 |\n",
       "| Daniel Padilla | 15 | 34 | 1 | 0 | 0 | 1 |\n",
       "| Nadine Lustre  | 24 | 47 | 0 | 1 | 0 | 5 |\n",
       "| Bea Alonzo     | 23 | 51 | 0 | 1 | 0 | 0 |\n",
       "| Alden Richards | 14 | 55 | 0 | 1 | 0 | 0 |\n",
       "\n"
      ],
      "text/plain": [
       "  name           years_active imdb_credits family education politics wins\n",
       "1 Sam Milby      20           60           0      0         0        0   \n",
       "2 Daniel Padilla 15           34           1      0         0        1   \n",
       "3 Nadine Lustre  24           47           0      1         0        5   \n",
       "4 Bea Alonzo     23           51           0      1         0        0   \n",
       "5 Alden Richards 14           55           0      1         0        0   "
      ]
     },
     "metadata": {},
     "output_type": "display_data"
    }
   ],
   "source": [
    "actors <- read_csv(\"https://raw.githubusercontent.com/zkdlyn/APM1210_SA2/refs/heads/main/celebrity_sample30.csv\",\n",
    "show_col_types = FALSE)\n",
    "\n",
    "head(actors,5)"
   ]
  },
  {
   "cell_type": "code",
   "execution_count": 3,
   "id": "a44194b5",
   "metadata": {
    "vscode": {
     "languageId": "r"
    }
   },
   "outputs": [
    {
     "data": {
      "text/plain": [
       "     name            years_active   imdb_credits        family      \n",
       " Length:30          Min.   :13.0   Min.   : 15.00   Min.   :0.0000  \n",
       " Class :character   1st Qu.:21.5   1st Qu.: 47.50   1st Qu.:0.0000  \n",
       " Mode  :character   Median :29.0   Median : 59.50   Median :0.5000  \n",
       "                    Mean   :30.9   Mean   : 69.00   Mean   :0.8667  \n",
       "                    3rd Qu.:39.0   3rd Qu.: 85.75   3rd Qu.:1.0000  \n",
       "                    Max.   :54.0   Max.   :151.00   Max.   :4.0000  \n",
       "   education        politics        wins      \n",
       " Min.   :0.000   Min.   :0.0   Min.   :0.000  \n",
       " 1st Qu.:1.000   1st Qu.:0.0   1st Qu.:0.000  \n",
       " Median :2.000   Median :0.0   Median :0.000  \n",
       " Mean   :1.733   Mean   :0.4   Mean   :1.433  \n",
       " 3rd Qu.:2.000   3rd Qu.:1.0   3rd Qu.:2.000  \n",
       " Max.   :3.000   Max.   :1.0   Max.   :9.000  "
      ]
     },
     "metadata": {},
     "output_type": "display_data"
    }
   ],
   "source": [
    "summary(actors)"
   ]
  },
  {
   "cell_type": "markdown",
   "id": "f9598d79",
   "metadata": {
    "vscode": {
     "languageId": "r"
    }
   },
   "source": [
    "**Initial Logistic Regression Model**\n",
    "\n",
    "$$\n",
    "ln \\frac{p}{1-p}= \\beta_0 + \\beta_1 \\cdot (\\text{years\\_active}) + \\beta_2 \\cdot (\\text{imdb\\_credits}) + \\beta_3 \\cdot (\\text{family}) + \\beta_4 \\cdot (\\text{wins})\n",
    "\n",
    "$$\n",
    "\n",
    "This formula models the log-odds of an actor becoming an elected politician as a linear combination of four predictors:  years_active, imdb_credits, family and wins."
   ]
  },
  {
   "cell_type": "code",
   "execution_count": 22,
   "id": "c3f696fd",
   "metadata": {
    "vscode": {
     "languageId": "r"
    }
   },
   "outputs": [],
   "source": [
    "logit <- glm(politics~ years_active + imdb_credits + family+wins, \n",
    "             data = actors, family = binomial)\n",
    "\n"
   ]
  },
  {
   "cell_type": "code",
   "execution_count": 24,
   "id": "c3dba9df",
   "metadata": {
    "vscode": {
     "languageId": "r"
    }
   },
   "outputs": [
    {
     "data": {
      "text/plain": [
       "\n",
       "Call:  glm(formula = politics ~ years_active + imdb_credits + family + \n",
       "    wins, family = binomial, data = actors)\n",
       "\n",
       "Coefficients:\n",
       " (Intercept)  years_active  imdb_credits        family          wins  \n",
       "     -2.4644        0.1399       -0.0364        1.3355       -1.0366  \n",
       "\n",
       "Degrees of Freedom: 29 Total (i.e. Null);  25 Residual\n",
       "Null Deviance:\t    40.38 \n",
       "Residual Deviance: 23.38 \tAIC: 33.38"
      ]
     },
     "metadata": {},
     "output_type": "display_data"
    },
    {
     "data": {
      "image/png": "[encoded data removed]",
      "text/plain": [
       "Plot with title \"\""
      ]
     },
     "metadata": {
      "image/png": {
       "height": 420,
       "width": 420
      }
     },
     "output_type": "display_data"
    }
   ],
   "source": [
    "logit\n",
    "par(mfrow=c(2,2))\n",
    "plot(logit)"
   ]
  },
  {
   "cell_type": "code",
   "execution_count": 21,
   "id": "d7bdf728",
   "metadata": {
    "vscode": {
     "languageId": "r"
    }
   },
   "outputs": [
    {
     "name": "stderr",
     "output_type": "stream",
     "text": [
      "Warning message:\n",
      "\"glm.fit: fitted probabilities numerically 0 or 1 occurred\"\n"
     ]
    },
    {
     "data": {
      "text/plain": [
       "\n",
       "Call:  glm(formula = politics ~ years_active + imdb_credits + family + \n",
       "    wins, family = binomial, data = actors_x)\n",
       "\n",
       "Coefficients:\n",
       " (Intercept)  years_active  imdb_credits        family          wins  \n",
       "    -2.62973       0.13870      -0.04809      20.93615     -19.17130  \n",
       "\n",
       "Degrees of Freedom: 27 Total (i.e. Null);  23 Residual\n",
       "Null Deviance:\t    37.52 \n",
       "Residual Deviance: 8.88 \tAIC: 18.88"
      ]
     },
     "metadata": {},
     "output_type": "display_data"
    },
    {
     "data": {
      "image/png": "[encoded data removed]",
      "text/plain": [
       "Plot with title \"\""
      ]
     },
     "metadata": {
      "image/png": {
       "height": 420,
       "width": 420
      }
     },
     "output_type": "display_data"
    }
   ],
   "source": [
    "actors_x <- actors[-c(8, 27),]\n",
    "\n",
    "logit_2 <- glm(politics~ years_active + imdb_credits + family+wins, \n",
    "             data = actors_x, family = binomial)\n",
    "logit_2\n",
    "par(mfrow = c(2, 2))\n",
    "plot(logit_2)"
   ]
  },
  {
   "cell_type": "code",
   "execution_count": 25,
   "id": "ba2a4540",
   "metadata": {
    "vscode": {
     "languageId": "r"
    }
   },
   "outputs": [
    {
     "data": {
      "text/html": [
       "0.730333333333333"
      ],
      "text/latex": [
       "0.730333333333333"
      ],
      "text/markdown": [
       "0.730333333333333"
      ],
      "text/plain": [
       "[1] 0.7303333"
      ]
     },
     "metadata": {},
     "output_type": "display_data"
    }
   ],
   "source": [
    "set.seed(1234)\n",
    "B<- 100\n",
    "n <- nrow(actors)\n",
    "accuracies <- numeric(B)\n",
    "\n",
    "for (b in 1:B){\n",
    "  i <- sample(1:n, size=n,replace=TRUE)\n",
    "  sample.bs <- actors[i, ]\n",
    "\n",
    "  logit.bs <- suppressWarnings(glm(politics ~ years_active + family, \n",
    "                  data = sample.bs, family = binomial))\n",
    "  \n",
    "  prob <- predict(logit.bs, newdata = actors, type=\"response\")\n",
    "  pred <- ifelse(prob > 0.5, 1, 0)\n",
    "  accuracy <- mean(pred==actors$politics)\n",
    "  accuracies[b]<- accuracy\n",
    "}\n",
    "\n",
    "mean(accuracies)"
   ]
  },
  {
   "cell_type": "code",
   "execution_count": 26,
   "id": "75a0f09b",
   "metadata": {
    "vscode": {
     "languageId": "r"
    }
   },
   "outputs": [
    {
     "data": {
      "text/html": [
       "0.813571428571429"
      ],
      "text/latex": [
       "0.813571428571429"
      ],
      "text/markdown": [
       "0.813571428571429"
      ],
      "text/plain": [
       "[1] 0.8135714"
      ]
     },
     "metadata": {},
     "output_type": "display_data"
    }
   ],
   "source": [
    "set.seed(1234)\n",
    "B<- 100\n",
    "n <- nrow(actors_x)\n",
    "accuracies <- numeric(B)\n",
    "\n",
    "for (b in 1:B){\n",
    "  i <- sample(1:n, size=n,replace=TRUE)\n",
    "  sample.bs <- actors_x[i, ]\n",
    "\n",
    "  logit.bs <- suppressWarnings(glm(politics ~ years_active + family, \n",
    "                  data = sample.bs, family = binomial))\n",
    "  \n",
    "  prob <- predict(logit.bs, newdata = actors_x, type=\"response\")\n",
    "  pred <- ifelse(prob > 0.5, 1, 0)\n",
    "  accuracy <- mean(pred==actors_x$politics)\n",
    "  accuracies[b]<- accuracy\n",
    "}\n",
    "\n",
    "mean(accuracies)"
   ]
  }
 ],
 "metadata": {
  "kernelspec": {
   "display_name": "R",
   "language": "R",
   "name": "ir"
  },
  "language_info": {
   "codemirror_mode": "r",
   "file_extension": ".r",
   "mimetype": "text/x-r-source",
   "name": "R",
   "pygments_lexer": "r",
   "version": "4.4.3"
  }
 },
 "nbformat": 4,
 "nbformat_minor": 5
}
