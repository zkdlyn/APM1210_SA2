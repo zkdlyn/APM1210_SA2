{
 "cells": [
  {
   "cell_type": "markdown",
   "id": "35596a4c",
   "metadata": {},
   "source": [
    "# Resampling for Model Validation"
   ]
  },
  {
   "cell_type": "code",
   "execution_count": 1,
   "id": "ff4288ea",
   "metadata": {
    "vscode": {
     "languageId": "r"
    }
   },
   "outputs": [],
   "source": [
    "suppressPackageStartupMessages({\n",
    "  library(knitr)\n",
    "  library(readr)\n",
    "  library(tidyverse)\n",
    "  library(car)\n",
    "  library(boot)\n",
    "})"
   ]
  },
  {
   "cell_type": "markdown",
   "id": "06719dd7",
   "metadata": {},
   "source": [
    "### Objective"
   ]
  }
 ],
 "metadata": {
  "kernelspec": {
   "display_name": "R",
   "language": "R",
   "name": "ir"
  },
  "language_info": {
   "codemirror_mode": "r",
   "file_extension": ".r",
   "mimetype": "text/x-r-source",
   "name": "R",
   "pygments_lexer": "r",
   "version": "4.4.3"
  }
 },
 "nbformat": 4,
 "nbformat_minor": 5
}
