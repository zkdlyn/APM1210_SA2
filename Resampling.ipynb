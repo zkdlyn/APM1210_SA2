{
 "cells": [
  {
   "cell_type": "markdown",
   "id": "35596a4c",
   "metadata": {},
   "source": [
    "# Resampling for Model Validation"
   ]
  },
  {
   "cell_type": "code",
   "execution_count": 3,
   "id": "1c1d67fe",
   "metadata": {
    "vscode": {
     "languageId": "r"
    }
   },
   "outputs": [],
   "source": [
    "suppressPackageStartupMessages({\n",
    "  library(knitr)\n",
    "  library(readr)\n",
    "  library(ggplot2)\n",
    "  library(tidyverse)\n",
    "  library(car)\n",
    "  library(caret)\n",
    "  library(pscl)\n",
    "  library(boot)\n",
    "})"
   ]
  },
  {
   "cell_type": "markdown",
   "id": "06719dd7",
   "metadata": {},
   "source": [
    "### Objective\n",
    "As public figures from film and television have increasingly  transitioned to political careers in various levels of government. This trend raises questions as to what attributes contribute to an actor's electoral success. Career longevity, accolades, acting credits, and family connections may further enhance an actor's publicity and increase perceived credinility.\n",
    "\n",
    "This study aims to apply bootstrap and jackknife resampling techniques to identify if career length (in years), number of acting credits, number of awards, and number of immediate family members in politiics are significantly associated with actors becoming elected politicians.Logistic regression modeling will be used to estimate the strength and direction these predictors while assessing model stability under resampling."
   ]
  },
  {
   "cell_type": "code",
   "execution_count": 4,
   "id": "4421c2f5",
   "metadata": {
    "vscode": {
     "languageId": "r"
    }
   },
   "outputs": [
    {
     "data": {
      "text/html": [
       "<table class=\"dataframe\">\n",
       "<caption>A tibble: 5 × 7</caption>\n",
       "<thead>\n",
       "\t<tr><th scope=col>name</th><th scope=col>years_active</th><th scope=col>imdb_credits</th><th scope=col>family</th><th scope=col>education</th><th scope=col>politics</th><th scope=col>wins</th></tr>\n",
       "\t<tr><th scope=col>&lt;chr&gt;</th><th scope=col>&lt;dbl&gt;</th><th scope=col>&lt;dbl&gt;</th><th scope=col>&lt;dbl&gt;</th><th scope=col>&lt;dbl&gt;</th><th scope=col>&lt;dbl&gt;</th><th scope=col>&lt;dbl&gt;</th></tr>\n",
       "</thead>\n",
       "<tbody>\n",
       "\t<tr><td>Sam Milby     </td><td>20</td><td>60</td><td>0</td><td>0</td><td>0</td><td>0</td></tr>\n",
       "\t<tr><td>Daniel Padilla</td><td>15</td><td>34</td><td>1</td><td>0</td><td>0</td><td>1</td></tr>\n",
       "\t<tr><td>Nadine Lustre </td><td>24</td><td>47</td><td>0</td><td>1</td><td>0</td><td>5</td></tr>\n",
       "\t<tr><td>Bea Alonzo    </td><td>23</td><td>51</td><td>0</td><td>1</td><td>0</td><td>0</td></tr>\n",
       "\t<tr><td>Alden Richards</td><td>14</td><td>55</td><td>0</td><td>1</td><td>0</td><td>0</td></tr>\n",
       "</tbody>\n",
       "</table>\n"
      ],
      "text/latex": [
       "A tibble: 5 × 7\n",
       "\\begin{tabular}{lllllll}\n",
       " name & years\\_active & imdb\\_credits & family & education & politics & wins\\\\\n",
       " <chr> & <dbl> & <dbl> & <dbl> & <dbl> & <dbl> & <dbl>\\\\\n",
       "\\hline\n",
       "\t Sam Milby      & 20 & 60 & 0 & 0 & 0 & 0\\\\\n",
       "\t Daniel Padilla & 15 & 34 & 1 & 0 & 0 & 1\\\\\n",
       "\t Nadine Lustre  & 24 & 47 & 0 & 1 & 0 & 5\\\\\n",
       "\t Bea Alonzo     & 23 & 51 & 0 & 1 & 0 & 0\\\\\n",
       "\t Alden Richards & 14 & 55 & 0 & 1 & 0 & 0\\\\\n",
       "\\end{tabular}\n"
      ],
      "text/markdown": [
       "\n",
       "A tibble: 5 × 7\n",
       "\n",
       "| name &lt;chr&gt; | years_active &lt;dbl&gt; | imdb_credits &lt;dbl&gt; | family &lt;dbl&gt; | education &lt;dbl&gt; | politics &lt;dbl&gt; | wins &lt;dbl&gt; |\n",
       "|---|---|---|---|---|---|---|\n",
       "| Sam Milby      | 20 | 60 | 0 | 0 | 0 | 0 |\n",
       "| Daniel Padilla | 15 | 34 | 1 | 0 | 0 | 1 |\n",
       "| Nadine Lustre  | 24 | 47 | 0 | 1 | 0 | 5 |\n",
       "| Bea Alonzo     | 23 | 51 | 0 | 1 | 0 | 0 |\n",
       "| Alden Richards | 14 | 55 | 0 | 1 | 0 | 0 |\n",
       "\n"
      ],
      "text/plain": [
       "  name           years_active imdb_credits family education politics wins\n",
       "1 Sam Milby      20           60           0      0         0        0   \n",
       "2 Daniel Padilla 15           34           1      0         0        1   \n",
       "3 Nadine Lustre  24           47           0      1         0        5   \n",
       "4 Bea Alonzo     23           51           0      1         0        0   \n",
       "5 Alden Richards 14           55           0      1         0        0   "
      ]
     },
     "metadata": {},
     "output_type": "display_data"
    }
   ],
   "source": [
    "actors <- read_csv(\"https://raw.githubusercontent.com/zkdlyn/APM1210_SA2/refs/heads/main/celebrity_sample30.csv\",\n",
    "show_col_types = FALSE)\n",
    "\n",
    "head(actors,5)"
   ]
  },
  {
   "cell_type": "code",
   "execution_count": 5,
   "id": "a44194b5",
   "metadata": {
    "vscode": {
     "languageId": "r"
    }
   },
   "outputs": [
    {
     "data": {
      "text/plain": [
       "     name            years_active   imdb_credits        family      \n",
       " Length:30          Min.   :13.0   Min.   : 15.00   Min.   :0.0000  \n",
       " Class :character   1st Qu.:21.5   1st Qu.: 47.50   1st Qu.:0.0000  \n",
       " Mode  :character   Median :29.0   Median : 59.50   Median :0.5000  \n",
       "                    Mean   :30.9   Mean   : 69.00   Mean   :0.8667  \n",
       "                    3rd Qu.:39.0   3rd Qu.: 85.75   3rd Qu.:1.0000  \n",
       "                    Max.   :54.0   Max.   :151.00   Max.   :4.0000  \n",
       "   education        politics        wins      \n",
       " Min.   :0.000   Min.   :0.0   Min.   :0.000  \n",
       " 1st Qu.:1.000   1st Qu.:0.0   1st Qu.:0.000  \n",
       " Median :2.000   Median :0.0   Median :0.000  \n",
       " Mean   :1.733   Mean   :0.4   Mean   :1.433  \n",
       " 3rd Qu.:2.000   3rd Qu.:1.0   3rd Qu.:2.000  \n",
       " Max.   :3.000   Max.   :1.0   Max.   :9.000  "
      ]
     },
     "metadata": {},
     "output_type": "display_data"
    }
   ],
   "source": [
    "summary(actors)"
   ]
  },
  {
   "cell_type": "markdown",
   "id": "f9598d79",
   "metadata": {
    "vscode": {
     "languageId": "r"
    }
   },
   "source": [
    "**Initial Logistic Regression Model**\n",
    "\n",
    "$$\n",
    "ln \\frac{p}{1-p}= \\beta_0 + \\beta_1 \\cdot (\\text{years\\_active}) + \\beta_2 \\cdot (\\text{imdb\\_credits}) + \\beta_3 \\cdot (\\text{family}) + \\beta_4 \\cdot (\\text{wins})\n",
    "\n",
    "$$\n",
    "\n",
    "This formula models the log-odds of an actor becoming an elected politician as a linear combination of four predictors:  years_active, imdb_credits, family and wins."
   ]
  },
  {
   "cell_type": "code",
   "execution_count": 28,
   "id": "c3f696fd",
   "metadata": {
    "vscode": {
     "languageId": "r"
    }
   },
   "outputs": [
    {
     "data": {
      "text/plain": [
       "\n",
       "Call:\n",
       "glm(formula = politics ~ years_active + imdb_credits + family + \n",
       "    wins, family = binomial, data = actors)\n",
       "\n",
       "Coefficients:\n",
       "             Estimate Std. Error z value Pr(>|z|)  \n",
       "(Intercept)  -2.46436    1.78997  -1.377   0.1686  \n",
       "years_active  0.13991    0.07600   1.841   0.0656 .\n",
       "imdb_credits -0.03640    0.02422  -1.503   0.1328  \n",
       "family        1.33552    0.66190   2.018   0.0436 *\n",
       "wins         -1.03659    0.65870  -1.574   0.1156  \n",
       "---\n",
       "Signif. codes:  0 '***' 0.001 '**' 0.01 '*' 0.05 '.' 0.1 ' ' 1\n",
       "\n",
       "(Dispersion parameter for binomial family taken to be 1)\n",
       "\n",
       "    Null deviance: 40.381  on 29  degrees of freedom\n",
       "Residual deviance: 23.383  on 25  degrees of freedom\n",
       "AIC: 33.383\n",
       "\n",
       "Number of Fisher Scoring iterations: 6\n"
      ]
     },
     "metadata": {},
     "output_type": "display_data"
    }
   ],
   "source": [
    "logit <- glm(politics~ years_active + imdb_credits + family+wins, \n",
    "             data = actors, family = binomial)\n",
    "summary(logit)"
   ]
  },
  {
   "cell_type": "markdown",
   "id": "7bc32748",
   "metadata": {},
   "source": [
    "The model reported that family (b=1.336, p=0.044) is a statistically significant predictor while years_active (b =0.140, p 0.066) is marginally significant. These predictors are both positively associated with the target variable with family having a greater effect. The other predictors, wins (b=-1.037, p=0.116) and imdb_credits (b=-0.036, p =0.133) had greater negative effects but did not reach statistical significance."
   ]
  },
  {
   "cell_type": "code",
   "execution_count": 29,
   "id": "c3dba9df",
   "metadata": {
    "vscode": {
     "languageId": "r"
    }
   },
   "outputs": [
    {
     "data": {
      "image/png": "[encoded data removed]",
      "text/plain": [
       "Plot with title \"\""
      ]
     },
     "metadata": {
      "image/png": {
       "height": 420,
       "width": 420
      }
     },
     "output_type": "display_data"
    }
   ],
   "source": [
    "par(mfrow=c(2,2))\n",
    "plot(logit)"
   ]
  },
  {
   "cell_type": "code",
   "execution_count": 34,
   "id": "d7bdf728",
   "metadata": {
    "vscode": {
     "languageId": "r"
    }
   },
   "outputs": [
    {
     "name": "stderr",
     "output_type": "stream",
     "text": [
      "Warning message:\n",
      "\"glm.fit: fitted probabilities numerically 0 or 1 occurred\"\n"
     ]
    },
    {
     "data": {
      "text/plain": [
       "\n",
       "Call:\n",
       "glm(formula = politics ~ years_active + imdb_credits + family + \n",
       "    wins, family = binomial, data = actors_x)\n",
       "\n",
       "Coefficients:\n",
       "             Estimate Std. Error z value Pr(>|z|)  \n",
       "(Intercept)  -4.23319    2.98982  -1.416   0.1568  \n",
       "years_active  0.04434    0.14465   0.307   0.7592  \n",
       "imdb_credits  0.01310    0.03919   0.334   0.7382  \n",
       "family        7.40115    3.58815   2.063   0.0391 *\n",
       "wins         -4.10061    2.55162  -1.607   0.1080  \n",
       "---\n",
       "Signif. codes:  0 '***' 0.001 '**' 0.01 '*' 0.05 '.' 0.1 ' ' 1\n",
       "\n",
       "(Dispersion parameter for binomial family taken to be 1)\n",
       "\n",
       "    Null deviance: 39.336  on 28  degrees of freedom\n",
       "Residual deviance: 10.247  on 24  degrees of freedom\n",
       "AIC: 20.247\n",
       "\n",
       "Number of Fisher Scoring iterations: 9\n"
      ]
     },
     "metadata": {},
     "output_type": "display_data"
    }
   ],
   "source": [
    "actors_x <- actors[-c(8),]\n",
    "\n",
    "logit_2 <- glm(politics~ years_active + imdb_credits + family+wins, \n",
    "             data = actors_x, family = binomial)\n",
    "summary(logit_2)\n"
   ]
  },
  {
   "cell_type": "markdown",
   "id": "3f8b4154",
   "metadata": {},
   "source": []
  },
  {
   "cell_type": "code",
   "execution_count": 31,
   "id": "d164eeef",
   "metadata": {
    "vscode": {
     "languageId": "r"
    }
   },
   "outputs": [
    {
     "data": {
      "image/png": "[encoded data removed]",
      "text/plain": [
       "Plot with title \"\""
      ]
     },
     "metadata": {
      "image/png": {
       "height": 420,
       "width": 420
      }
     },
     "output_type": "display_data"
    }
   ],
   "source": [
    "par(mfrow = c(2, 2))\n",
    "plot(logit_2)"
   ]
  },
  {
   "cell_type": "markdown",
   "id": "59c36cd2",
   "metadata": {},
   "source": [
    "### Bootstrap Resampling to Validate Logit"
   ]
  },
  {
   "cell_type": "code",
   "execution_count": 25,
   "id": "ba2a4540",
   "metadata": {
    "vscode": {
     "languageId": "r"
    }
   },
   "outputs": [],
   "source": [
    "bootstrap_metrics <- function(data, formula, B = 1000) {\n",
    "    n <- nrow(data)\n",
    "    accuracies <- numeric(B)\n",
    "    precisions <- numeric(B)\n",
    "    recalls <- numeric(B)\n",
    "    f1_scores <- numeric(B)\n",
    "    \n",
    "    for (b in 1:B) {\n",
    "        i <- sample(1:n, size = n, replace = TRUE)\n",
    "        sample.bs <- data[i, ]\n",
    "        \n",
    "        logit.bs <- suppressWarnings(glm(formula, data = sample.bs, family = binomial))\n",
    "        \n",
    "        prob <- predict(logit.bs, newdata = data, type = \"response\")\n",
    "        pred <- ifelse(prob > 0.5, 1, 0)\n",
    "        \n",
    "        actual <- data[[as.character(formula[[2]])]]\n",
    "        \n",
    "        accuracies[b] <- mean(pred == actual)\n",
    "        \n",
    "        true_positives <- sum(pred == 1 & actual == 1)\n",
    "        predicted_positives <- sum(pred == 1)\n",
    "        precisions[b] <- ifelse(predicted_positives == 0, NA, true_positives / predicted_positives)\n",
    "        \n",
    "        actual_positives <- sum(actual == 1)\n",
    "        recalls[b] <- ifelse(actual_positives == 0, NA, true_positives / actual_positives)\n",
    "        \n",
    "        f1_scores[b] <- ifelse(is.na(precisions[b]) | is.na(recalls[b]) | (precisions[b] + recalls[b]) == 0,\n",
    "                                                     NA,\n",
    "                                                     2 * (precisions[b] * recalls[b]) / (precisions[b] + recalls[b]))\n",
    "    }\n",
    "    par(mfrow = c(2, 2))\n",
    "\n",
    "    hist(accuracies, main = \"Accuracy Distribution\", xlab = \"Accuracy\", col = \"skyblue\", border = \"white\")\n",
    "    hist(precisions, main = \"Precision Distribution\", xlab = \"Precision\", col = \"salmon\", border = \"white\")\n",
    "    hist(recalls, main = \"Recall Distribution\", xlab = \"Recall\", col = \"yellow\", border = \"white\")\n",
    "    hist(f1_scores, main = \"F1 Score Distribution\", xlab = \"F1 Score\", col = \"orchid\", border = \"white\")\n",
    "    return(list((data.frame(\n",
    "        accuracy = mean(accuracies, na.rm = TRUE),\n",
    "        precision = mean(precisions, na.rm = TRUE),\n",
    "        recall = mean(recalls, na.rm = TRUE),\n",
    "        f1_score = mean(f1_scores, na.rm = TRUE)\n",
    "    ))))\n",
    "    \n",
    "}"
   ]
  },
  {
   "cell_type": "markdown",
   "id": "571b0127",
   "metadata": {},
   "source": [
    "This code implements bootstrap resampling to evaluate the performance of logistic regression models. To validate the model's predictive capability, key classification metrics (accuracy, precision, recall, and F1 score) are estimated across 1000 resampled versions of the dataset.\n",
    "\n",
    "In each iteration, a bootstrap sample is drawn from the original actors dataset by sampling with replacement. A logistic regression model is fitted to this bootstrap sample using years_active, imdb_credits, family, and wins as predictors. After training, the model is used to predict probabilities for the original dataset and converted into binary class predictions using a 0.5 threshold. Performance metrics are then computed by comparing these predictions against the actual target values from the original dataset.\n",
    "\n",
    "Repeating this process 1000 times helps assess the reliability of the model under slight variations in the dataset."
   ]
  },
  {
   "cell_type": "code",
   "execution_count": 35,
   "id": "75a0f09b",
   "metadata": {
    "vscode": {
     "languageId": "r"
    }
   },
   "outputs": [
    {
     "data": {
      "text/plain": [
       "\n",
       "\n",
       "|  accuracy| precision|    recall|  f1_score|\n",
       "|---------:|---------:|---------:|---------:|\n",
       "| 0.8481333| 0.8235926| 0.8080833| 0.8091622|"
      ]
     },
     "metadata": {},
     "output_type": "display_data"
    },
    {
     "data": {
      "image/png": "[encoded data removed]",
      "text/plain": [
       "Plot with title \"F1 Score Distribution\""
      ]
     },
     "metadata": {
      "image/png": {
       "height": 420,
       "width": 420
      }
     },
     "output_type": "display_data"
    }
   ],
   "source": [
    "set.seed(124)\n",
    "# using complete sample\n",
    "results<-bootstrap_metrics(actors, politics ~ years_active + \n",
    "family + imdb_credits + wins, B = 1000)\n",
    "\n",
    "kable(results)"
   ]
  },
  {
   "cell_type": "markdown",
   "id": "8f7eb07c",
   "metadata": {},
   "source": []
  },
  {
   "cell_type": "code",
   "execution_count": 36,
   "id": "c9be8df0",
   "metadata": {
    "vscode": {
     "languageId": "r"
    }
   },
   "outputs": [
    {
     "data": {
      "text/plain": [
       "\n",
       "\n",
       "|  accuracy| precision| recall|  f1_score|\n",
       "|---------:|---------:|------:|---------:|\n",
       "| 0.9081379| 0.8968533|  0.891| 0.8897793|"
      ]
     },
     "metadata": {},
     "output_type": "display_data"
    },
    {
     "data": {
      "image/png": "[encoded data removed]",
      "text/plain": [
       "Plot with title \"F1 Score Distribution\""
      ]
     },
     "metadata": {
      "image/png": {
       "height": 420,
       "width": 420
      }
     },
     "output_type": "display_data"
    }
   ],
   "source": [
    "set.seed(124)\n",
    "# using sample removed outliers\n",
    "results<-bootstrap_metrics(actors_x, politics ~ years_active + \n",
    "family + imdb_credits + wins, B = 1000)\n",
    "\n",
    "kable(results)"
   ]
  },
  {
   "cell_type": "markdown",
   "id": "4642cd6c",
   "metadata": {},
   "source": []
  }
 ],
 "metadata": {
  "kernelspec": {
   "display_name": "R",
   "language": "R",
   "name": "ir"
  },
  "language_info": {
   "codemirror_mode": "r",
   "file_extension": ".r",
   "mimetype": "text/x-r-source",
   "name": "R",
   "pygments_lexer": "r",
   "version": "4.4.3"
  }
 },
 "nbformat": 4,
 "nbformat_minor": 5
}
