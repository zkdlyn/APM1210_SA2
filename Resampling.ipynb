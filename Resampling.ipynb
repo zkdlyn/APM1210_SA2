{
 "cells": [
  {
   "cell_type": "markdown",
   "id": "35596a4c",
   "metadata": {},
   "source": [
    "# Resampling for Model Validation"
   ]
  },
  {
   "cell_type": "code",
   "execution_count": 2,
   "id": "ff4288ea",
   "metadata": {
    "vscode": {
     "languageId": "r"
    }
   },
   "outputs": [],
   "source": [
    "suppressPackageStartupMessages({\n",
    "  library(knitr)\n",
    "  library(readr)\n",
    "  library(ggplot2)\n",
    "  library(tidyverse)\n",
    "  library(car)\n",
    "  library(caret)\n",
    "  library(pscl)\n",
    "  library(boot)\n",
    "\n",
    "})\n"
   ]
  },
  {
   "cell_type": "markdown",
   "id": "06719dd7",
   "metadata": {},
   "source": [
    "### Objective\n",
    "As public figures from film and television have increasingly  transitioned to political careers in various levels of government. This trend raises questions as to what attributes contribute to an actor's electoral success. Career longevity, accolades, acting credits, and family connections may further enhance an actor's publicity and increase perceived credinility.\n",
    "\n",
    "This study aims to apply bootstrap and jackknife resampling techniques to identify if career length (in years), number of acting credits, number of awards, and number of immediate family members in politiics are significantly associated with actors becoming elected politicians.Logistic regression modeling will be used to estimate the strength and direction these predictors while assessing model stability under resampling."
   ]
  },
  {
   "cell_type": "code",
   "execution_count": 3,
   "id": "4421c2f5",
   "metadata": {
    "vscode": {
     "languageId": "r"
    }
   },
   "outputs": [
    {
     "data": {
      "text/html": [
       "<table class=\"dataframe\">\n",
       "<caption>A tibble: 5 × 7</caption>\n",
       "<thead>\n",
       "\t<tr><th scope=col>name</th><th scope=col>years_active</th><th scope=col>imdb_credits</th><th scope=col>family</th><th scope=col>education</th><th scope=col>politics</th><th scope=col>wins</th></tr>\n",
       "\t<tr><th scope=col>&lt;chr&gt;</th><th scope=col>&lt;dbl&gt;</th><th scope=col>&lt;dbl&gt;</th><th scope=col>&lt;dbl&gt;</th><th scope=col>&lt;dbl&gt;</th><th scope=col>&lt;dbl&gt;</th><th scope=col>&lt;dbl&gt;</th></tr>\n",
       "</thead>\n",
       "<tbody>\n",
       "\t<tr><td>Sam Milby     </td><td>20</td><td>60</td><td>0</td><td>0</td><td>0</td><td>0</td></tr>\n",
       "\t<tr><td>Daniel Padilla</td><td>15</td><td>34</td><td>1</td><td>0</td><td>0</td><td>1</td></tr>\n",
       "\t<tr><td>Nadine Lustre </td><td>24</td><td>47</td><td>0</td><td>1</td><td>0</td><td>5</td></tr>\n",
       "\t<tr><td>Bea Alonzo    </td><td>23</td><td>51</td><td>0</td><td>1</td><td>0</td><td>0</td></tr>\n",
       "\t<tr><td>Alden Richards</td><td>14</td><td>55</td><td>0</td><td>1</td><td>0</td><td>0</td></tr>\n",
       "</tbody>\n",
       "</table>\n"
      ],
      "text/latex": [
       "A tibble: 5 × 7\n",
       "\\begin{tabular}{lllllll}\n",
       " name & years\\_active & imdb\\_credits & family & education & politics & wins\\\\\n",
       " <chr> & <dbl> & <dbl> & <dbl> & <dbl> & <dbl> & <dbl>\\\\\n",
       "\\hline\n",
       "\t Sam Milby      & 20 & 60 & 0 & 0 & 0 & 0\\\\\n",
       "\t Daniel Padilla & 15 & 34 & 1 & 0 & 0 & 1\\\\\n",
       "\t Nadine Lustre  & 24 & 47 & 0 & 1 & 0 & 5\\\\\n",
       "\t Bea Alonzo     & 23 & 51 & 0 & 1 & 0 & 0\\\\\n",
       "\t Alden Richards & 14 & 55 & 0 & 1 & 0 & 0\\\\\n",
       "\\end{tabular}\n"
      ],
      "text/markdown": [
       "\n",
       "A tibble: 5 × 7\n",
       "\n",
       "| name &lt;chr&gt; | years_active &lt;dbl&gt; | imdb_credits &lt;dbl&gt; | family &lt;dbl&gt; | education &lt;dbl&gt; | politics &lt;dbl&gt; | wins &lt;dbl&gt; |\n",
       "|---|---|---|---|---|---|---|\n",
       "| Sam Milby      | 20 | 60 | 0 | 0 | 0 | 0 |\n",
       "| Daniel Padilla | 15 | 34 | 1 | 0 | 0 | 1 |\n",
       "| Nadine Lustre  | 24 | 47 | 0 | 1 | 0 | 5 |\n",
       "| Bea Alonzo     | 23 | 51 | 0 | 1 | 0 | 0 |\n",
       "| Alden Richards | 14 | 55 | 0 | 1 | 0 | 0 |\n",
       "\n"
      ],
      "text/plain": [
       "  name           years_active imdb_credits family education politics wins\n",
       "1 Sam Milby      20           60           0      0         0        0   \n",
       "2 Daniel Padilla 15           34           1      0         0        1   \n",
       "3 Nadine Lustre  24           47           0      1         0        5   \n",
       "4 Bea Alonzo     23           51           0      1         0        0   \n",
       "5 Alden Richards 14           55           0      1         0        0   "
      ]
     },
     "metadata": {},
     "output_type": "display_data"
    }
   ],
   "source": [
    "actors <- read_csv(\"https://raw.githubusercontent.com/zkdlyn/APM1210_SA2/refs/heads/main/celebrity_sample30.csv\",\n",
    "show_col_types = FALSE)\n",
    "\n",
    "head(actors,5)"
   ]
  },
  {
   "cell_type": "code",
   "execution_count": 4,
   "id": "a44194b5",
   "metadata": {
    "vscode": {
     "languageId": "r"
    }
   },
   "outputs": [
    {
     "data": {
      "text/plain": [
       "     name            years_active   imdb_credits        family      \n",
       " Length:30          Min.   :13.0   Min.   : 15.00   Min.   :0.0000  \n",
       " Class :character   1st Qu.:21.5   1st Qu.: 47.50   1st Qu.:0.0000  \n",
       " Mode  :character   Median :29.0   Median : 59.50   Median :0.5000  \n",
       "                    Mean   :30.9   Mean   : 69.00   Mean   :0.8667  \n",
       "                    3rd Qu.:39.0   3rd Qu.: 85.75   3rd Qu.:1.0000  \n",
       "                    Max.   :54.0   Max.   :151.00   Max.   :4.0000  \n",
       "   education        politics        wins      \n",
       " Min.   :0.000   Min.   :0.0   Min.   :0.000  \n",
       " 1st Qu.:1.000   1st Qu.:0.0   1st Qu.:0.000  \n",
       " Median :2.000   Median :0.0   Median :0.000  \n",
       " Mean   :1.733   Mean   :0.4   Mean   :1.433  \n",
       " 3rd Qu.:2.000   3rd Qu.:1.0   3rd Qu.:2.000  \n",
       " Max.   :3.000   Max.   :1.0   Max.   :9.000  "
      ]
     },
     "metadata": {},
     "output_type": "display_data"
    }
   ],
   "source": [
    "summary(actors)"
   ]
  },
  {
   "cell_type": "markdown",
   "id": "f9598d79",
   "metadata": {
    "vscode": {
     "languageId": "r"
    }
   },
   "source": [
    "**Initial Logistic Regression Model**\n",
    "\n",
    "$$\n",
    "ln \\frac{p}{1-p}= \\beta_0 + \\beta_1 \\cdot (\\text{years\\_active}) + \\beta_2 \\cdot (\\text{imdb\\_credits}) + \\beta_3 \\cdot (\\text{family}) + \\beta_4 \\cdot (\\text{wins})\n",
    "\n",
    "$$\n",
    "\n",
    "This formula models the log-odds of an actor becoming an elected politician as a linear combination of four predictors:  years_active, imdb_credits, family and wins."
   ]
  },
  {
   "cell_type": "code",
   "execution_count": 17,
   "id": "c3f696fd",
   "metadata": {
    "vscode": {
     "languageId": "r"
    }
   },
   "outputs": [
    {
     "data": {
      "text/plain": [
       "\n",
       "Call:\n",
       "glm(formula = politics ~ years_active + imdb_credits + family + \n",
       "    wins, family = binomial, data = actors)\n",
       "\n",
       "Coefficients:\n",
       "             Estimate Std. Error z value Pr(>|z|)  \n",
       "(Intercept)  -2.46436    1.78997  -1.377   0.1686  \n",
       "years_active  0.13991    0.07600   1.841   0.0656 .\n",
       "imdb_credits -0.03640    0.02422  -1.503   0.1328  \n",
       "family        1.33552    0.66190   2.018   0.0436 *\n",
       "wins         -1.03659    0.65870  -1.574   0.1156  \n",
       "---\n",
       "Signif. codes:  0 '***' 0.001 '**' 0.01 '*' 0.05 '.' 0.1 ' ' 1\n",
       "\n",
       "(Dispersion parameter for binomial family taken to be 1)\n",
       "\n",
       "    Null deviance: 40.381  on 29  degrees of freedom\n",
       "Residual deviance: 23.383  on 25  degrees of freedom\n",
       "AIC: 33.383\n",
       "\n",
       "Number of Fisher Scoring iterations: 6\n"
      ]
     },
     "metadata": {},
     "output_type": "display_data"
    }
   ],
   "source": [
    "logit <- glm(politics~ years_active + imdb_credits + family+wins, \n",
    "             data = actors, family = binomial)\n",
    "\n",
    "summary(logit)"
   ]
  },
  {
   "cell_type": "code",
   "execution_count": 18,
   "id": "fb2ead69",
   "metadata": {
    "vscode": {
     "languageId": "r"
    }
   },
   "outputs": [
    {
     "name": "stdout",
     "output_type": "stream",
     "text": [
      "             Test stat Pr(>|Test stat|)   \n",
      "years_active    1.4133         0.234513   \n",
      "imdb_credits    2.8299         0.092524 . \n",
      "family          7.5101         0.006135 **\n",
      "wins            0.1353         0.712958   \n",
      "---\n",
      "Signif. codes:  0 '***' 0.001 '**' 0.01 '*' 0.05 '.' 0.1 ' ' 1\n"
     ]
    },
    {
     "data": {
      "image/png": "[encoded data removed]",
      "text/plain": [
       "plot without title"
      ]
     },
     "metadata": {
      "image/png": {
       "height": 420,
       "width": 420
      }
     },
     "output_type": "display_data"
    }
   ],
   "source": [
    "residualPlots(logit)"
   ]
  },
  {
   "cell_type": "code",
   "execution_count": 19,
   "id": "c3dba9df",
   "metadata": {
    "vscode": {
     "languageId": "r"
    }
   },
   "outputs": [
    {
     "data": {
      "image/png": "[encoded data removed]",
      "text/plain": [
       "Plot with title \"Cook's Distance\""
      ]
     },
     "metadata": {
      "image/png": {
       "height": 420,
       "width": 420
      }
     },
     "output_type": "display_data"
    }
   ],
   "source": [
    "plot(cooks.distance(logit), type = \"h\", main = \"Cook's Distance\")\n",
    "abline(h = 1, col = \"red\")"
   ]
  },
  {
   "cell_type": "code",
   "execution_count": 21,
   "id": "403cd6e3",
   "metadata": {
    "vscode": {
     "languageId": "r"
    }
   },
   "outputs": [
    {
     "data": {
      "text/html": [
       "<style>\n",
       ".dl-inline {width: auto; margin:0; padding: 0}\n",
       ".dl-inline>dt, .dl-inline>dd {float: none; width: auto; display: inline-block}\n",
       ".dl-inline>dt::after {content: \":\\0020\"; padding-right: .5ex}\n",
       ".dl-inline>dt:not(:first-of-type) {padding-left: .5ex}\n",
       "</style><dl class=dl-inline><dt>years_active</dt><dd>2.06625370694567</dd><dt>imdb_credits</dt><dd>1.5912451167868</dd><dt>family</dt><dd>1.92791920505744</dd><dt>wins</dt><dd>2.30104893688484</dd></dl>\n"
      ],
      "text/latex": [
       "\\begin{description*}\n",
       "\\item[years\\textbackslash{}\\_active] 2.06625370694567\n",
       "\\item[imdb\\textbackslash{}\\_credits] 1.5912451167868\n",
       "\\item[family] 1.92791920505744\n",
       "\\item[wins] 2.30104893688484\n",
       "\\end{description*}\n"
      ],
      "text/markdown": [
       "years_active\n",
       ":   2.06625370694567imdb_credits\n",
       ":   1.5912451167868family\n",
       ":   1.92791920505744wins\n",
       ":   2.30104893688484\n",
       "\n"
      ],
      "text/plain": [
       "years_active imdb_credits       family         wins \n",
       "    2.066254     1.591245     1.927919     2.301049 "
      ]
     },
     "metadata": {},
     "output_type": "display_data"
    }
   ],
   "source": [
    "car::vif(logit)"
   ]
  },
  {
   "cell_type": "code",
   "execution_count": 22,
   "id": "70e5a4cf",
   "metadata": {
    "vscode": {
     "languageId": "r"
    }
   },
   "outputs": [
    {
     "data": {
      "image/png": "[encoded data removed]",
      "text/plain": [
       "Plot with title \"Deviance Residuals vs Fitted Values\""
      ]
     },
     "metadata": {
      "image/png": {
       "height": 420,
       "width": 420
      }
     },
     "output_type": "display_data"
    }
   ],
   "source": [
    "plot(residuals(logit, type=\"deviance\"), \n",
    "     main = \"Deviance Residuals vs Fitted Values\",\n",
    "     xlab = \"Fitted Values\", ylab = \"Deviance Residuals\")"
   ]
  },
  {
   "cell_type": "code",
   "execution_count": null,
   "id": "7cfa2577",
   "metadata": {
    "vscode": {
     "languageId": "r"
    }
   },
   "outputs": [
    {
     "data": {
      "text/html": [
       "-35648671385.6441"
      ],
      "text/latex": [
       "-35648671385.6441"
      ],
      "text/markdown": [
       "-35648671385.6441"
      ],
      "text/plain": [
       "[1] -35648671386"
      ]
     },
     "metadata": {},
     "output_type": "display_data"
    }
   ],
   "source": [
    "# set.seed(1234)\n",
    "# B <- 500\n",
    "# n <- nrow(actors)\n",
    "\n",
    "# beta <- coef(logit)[\"years_active\"]\n",
    "\n",
    "# est.bs <- numeric(B)\n",
    "\n",
    "# for (b in 1:B) {\n",
    "#     i <- sample(1:n, size=n, replace = TRUE)\n",
    "#     sample.bs <- actors[i, ]\n",
    "#     logit.bs <- suppressWarnings(glm(politics ~ years_active + imdb_credits + family + wins, \n",
    "#                   data = sample.bs, family = binomial))\n",
    "#     est.bs[b] <- coef(logit.bs)[\"years_active\"]\n",
    "# }\n",
    "\n",
    "# beta.bs <- mean(est.bs[est.bs <10])\n",
    "# beta.bs"
   ]
  }
 ],
 "metadata": {
  "kernelspec": {
   "display_name": "R",
   "language": "R",
   "name": "ir"
  },
  "language_info": {
   "codemirror_mode": "r",
   "file_extension": ".r",
   "mimetype": "text/x-r-source",
   "name": "R",
   "pygments_lexer": "r",
   "version": "4.4.3"
  }
 },
 "nbformat": 4,
 "nbformat_minor": 5
}
